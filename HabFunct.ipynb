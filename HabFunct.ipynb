{
 "cells": [
  {
   "cell_type": "markdown",
   "metadata": {},
   "source": [
    "# notebook: Habitat Functionality"
   ]
  },
  {
   "cell_type": "markdown",
   "metadata": {},
   "source": [
    "## TOC:\n",
    "    1. libraries\n",
    "    2. Definition of the grid-class\n",
    "    3. Definition of the landmarks-class\n",
    "    4. Read a hdf5-file\n",
    "    5. Prepare data\n",
    "    6. Plot results"
   ]
  },
  {
   "cell_type": "markdown",
   "metadata": {},
   "source": [
    "## 1. Libraries & Settings"
   ]
  },
  {
   "cell_type": "code",
   "execution_count": 57,
   "metadata": {
    "collapsed": true
   },
   "outputs": [],
   "source": [
    "from __future__ import division\n",
    "import numpy as np\n",
    "import matplotlib as mpl\n",
    "import matplotlib.pyplot as plt\n",
    "from scipy import sparse\n",
    "from bisect import bisect_left\n",
    "import random\n",
    "from math import sqrt\n",
    "from scipy.sparse.csgraph import dijkstra\n",
    "import h5py\n",
    "\n",
    "%matplotlib inline"
   ]
  },
  {
   "cell_type": "markdown",
   "metadata": {},
   "source": [
    "## 2. Definition of the grid-class"
   ]
  },
  {
   "cell_type": "markdown",
   "metadata": {},
   "source": [
    "We manage landscapes as grids: columns of the grid are parallels to the y-axis (North-South) of the landscape, and rows to the x-axis (East-West). The rows and columns are numbered from the top left corner, and the order of nodes (note: the terms nodes and pixels will be used interchangeably) in the graph correspond to the English reading direction (i.e. from left to right and from top to bottom). These specifications are just as in the ESRI ASCII file for grids. Thus, if there are n columns, the pixel on the i-th row and j-th column correspond to the node i\\*n+j. All numbering start with 0. **COMMENT: Are we sure of this? I would think that I have provided data assuming 1 as its start**\n",
    "\n",
    "A node can be identified in different ways: its number or node id, its physical coordinates, and its grid coordinates. The pixel's number has been described above (i.e. from top-left corner to bottom-right corner), the physical coordinates are the values on the y- and x-axis, the grid coordinates are the row and column id.   \n",
    "\n",
    "An object of the class **Grid** has the following instance variables associated to it:\n",
    "* A : affinity matrix in the csr format. Great for matrix-vector multiplications\n",
    "* A_dok : affinity matrix in the dok format. Access to edge weight in O(1)\n",
    "* map_size : tuple (size along the y axis, size along the x axis). This is the physical size (in meters or kilometers) of the landscape.\n",
    "* shape : tuple (number of rows, number of columns). This is the size of the grid representing the landscape\n",
    "* pixel_size : tuple (pixel size along the y axis, pixel size along the x axis)\n",
    "* x_ticks : list delimitating the pixels along the x axis (in the physical coordinates). The ith column is delimitated by x_ticks[i] and x_ticks[i+1], if there are n colums, len(x_ticks) will be n+1.\n",
    "* y_ticks : list delimitating the pixels along the y axis (in the physical coordinates). The ith row is delimitated by y_ticks[i] and y_ticks[i+1], if there are n rows, len(y_ticks) will be n+1.\n",
    "\n",
    "A set of **functions** allows to do plots and to do conversions between the different coordinates of nodes (i.e. id in the graph, physical coordinates, grid coordinates):\n",
    "* ```set_affinities```: set the affinity values in a grid object.\n",
    "\n",
    "Conversion functions:\n",
    "* ```node_id_to_grid_coordinates```: get the grid coordinates (row id, column id) of a pixel\n",
    "* ```node_id_to_coordinates```: get the physical (value along the y axis, value along the x axis) coordinates of a node\n",
    "* ```coordinates_to_grid_coordinates```: from physical to grid coordinates\n",
    "* ```coordinates_to_node_id```\n",
    "* ```grid_coordinates_to_node_id```\n",
    "* ```grid_coordinates_to_coordinates```\n",
    "\n",
    "Checking functions:\n",
    "* ```check_grid_coordinates```: check if grid coordinates are valid. Raises IndexError if not\n",
    "* ```check_coordinates```: check if physical coordinates are valid. Raises IndexError if not\n",
    "* ```check_node_id```: check if node id is valid. Raises IndexError if not\n",
    "\n",
    "Plotting functions:\n",
    "* ```plot_indegrees```: plot the in-degree of the nodes of a grid (specific version of ```plot```)\n",
    "* ```plot_outdegrees```: plot the out-degree of the nodes of a grid (specific version of ```plot```)\n",
    "* ```plot```: plot values from a grid"
   ]
  },
  {
   "cell_type": "code",
   "execution_count": null,
   "metadata": {
    "collapsed": true
   },
   "outputs": [],
   "source": [
    "class Grid:\n",
    "\tdef __init__(self, map_size, shape, graph=None, qualities=None):\n",
    "\t\t'''\n",
    "\t\tInputs: \n",
    "\t\t\t- graph : sparse matrix (if None, the graph can be set later using set_affinities)\n",
    "\t\t\t- map_size : tuple (size along the y axis, size along the x axis). This is the physical size (in meters or kilometers) of the landscape.\n",
    "\t\t\t- shape : tuple (number of rows, number of columns). This is the size of the grid representing the landscape\n",
    "\t\t'''\n",
    "\t\tself.pixel_size = (map_size[0]/shape[0], map_size[1]/shape[1])\n",
    "\t\tself.shape = shape\n",
    "\t\tself.map_size = map_size\n",
    "\t\tself.n_rows, self.n_cols = shape\n",
    "\t\tself.N = shape[0] * shape[1]\n",
    "\t\tself.x_ticks = np.linspace(0, map_size[1], num=(shape[1]+1))\n",
    "\t\tself.y_ticks = np.linspace(0, map_size[0], num=(shape[0]+1))\n",
    "\t\t\n",
    "\t\tif graph is not None:\n",
    "\t\t\tself.set_affinities(graph)\n",
    "\n",
    "\t\tif qualities is not None:\n",
    "\t\t\tself.qualities = qualities\n",
    "\t\telse:\n",
    "\t\t\tself.qualities = np.ones(self.N)\n",
    "\n",
    "\n",
    "\tdef set_affinities(self, graph):\n",
    "\t\t'''\n",
    "\t\tSet the affinity matrix A and A_dok.\n",
    "\t\tgraph should be a sparse matrix.\n",
    "\t\t'''\n",
    "\t\tif graph.shape[0] != self.N:\n",
    "\t\t\traise ValueError('The shape of the grid does not match the number of nodes of the graph')\n",
    "\t\tself.A = graph.tocsr()\n",
    "\t\tself.A_dok = graph.todok()\n",
    "\t\n",
    "\tdef node_id_to_grid_coordinates(self, node_id):\n",
    "\t\t'''\n",
    "\t\tReturn the grid coordinates (row id, column id) corresponding to a given node\n",
    "\t\t'''\n",
    "\t\tself.check_node_id(node_id)\n",
    "\t\tj = int(node_id % self.n_cols)\n",
    "\t\ti = (node_id - j) / self.n_cols\n",
    "\t\treturn (i, j)\n",
    "\n",
    "\n",
    "\tdef node_id_to_coordinates(self, node_id):\n",
    "\t\t'''\n",
    "\t\tReturn the physical coordinates of a node (center of the corresponding pixel)\n",
    "\t\t'''\n",
    "\t\treturn self.grid_coordinates_to_coordinates(self.node_id_to_grid_coordinates(node_id))\n",
    "\t\n",
    "\tdef coordinates_to_grid_coordinates(self, coo):\n",
    "\t\t'''\n",
    "\t\tReturn the grid coordinates (row id, column id) of the pixel containing the \n",
    "\t\tphysical coordinates \"coo\" (value along the y axis, value along the x axis)\n",
    "\t\t'''\n",
    "\t\tself.check_coordinates(coo)\n",
    "\t\n",
    "\t\ti = max(0, bisect_left(self.y_ticks, coo[0]) - 1)\n",
    "\t\tj = max(0, bisect_left(self.x_ticks, coo[1]) - 1)\n",
    "\t\treturn (i,j)\n",
    "\n",
    "\tdef coordinates_to_node_id(self, coo):\n",
    "\t\t'''\n",
    "\t\tReturn the id of the node containing the physical coordinates \"coo\"\n",
    "\t\tthe coordinates are interpreted as (value along the y axis, value along the x axis)\n",
    "\t\t'''\n",
    "\t\treturn self.grid_coordinates_to_node_id(self.coordinates_to_grid_coordinates(coo))\n",
    "\n",
    "\tdef grid_coordinates_to_node_id(self, grid_coo):\n",
    "\t\t'''\n",
    "\t\tReturn the id of the node corresponding to the grid coordinates \"grid_coo\" (row id, column id)\n",
    "\t\t'''\n",
    "\t\tself.check_grid_coordinates(grid_coo)\n",
    "\t\treturn grid_coo[0] * self.n_cols + grid_coo[1]\n",
    "\n",
    "\tdef grid_coordinates_to_coordinates(self, grid_coo):\n",
    "\t\t'''\n",
    "\t\tReturn the physical coordinates of the center of the pixel identified by \"grid_coo\" (row id, column id)\n",
    "\t\t'''\n",
    "\t\tself.check_grid_coordinates(grid_coo)\n",
    "\t\treturn ((self.y_ticks[grid_coo[0]] + self.y_ticks[grid_coo[0] + 1])/2, (self.x_ticks[grid_coo[1]] + self.x_ticks[grid_coo[1] + 1])/2)\n",
    "\t\n",
    "\tdef check_grid_coordinates(self, grid_coo):\n",
    "\t\t'''\n",
    "\t\tCheck if grid coordinates are valid. Raises IndexError if not\n",
    "\t\t'''\n",
    "\t\tif grid_coo[0] >= self.n_rows or grid_coo[0] < 0:\n",
    "\t\t\traise IndexError('row id outside the range')\n",
    "\t\tif grid_coo[1] >= self.n_cols or grid_coo[1] < 0:\n",
    "\t\t\traise IndexError('column id outside the range')\n",
    "\n",
    "\tdef check_coordinates(self, coo):\n",
    "\t\t'''\n",
    "\t\tCheck if physical coordinates are valid. Raises IndexError if not\n",
    "\t\t'''\n",
    "\t\tif coo[0] > self.map_size[0] or coo[0] < 0:\n",
    "\t\t\traise IndexError('y coordinate outside the range')\n",
    "\t\tif coo[1] > self.map_size[1] or coo[1] < 0:\n",
    "\t\t\traise IndexError('x coordinate outside the range')\n",
    "\n",
    "\tdef check_node_id(self, node_id):\n",
    "\t\t'''\n",
    "\t\tCheck if node id is valid. Raises IndexError if not\n",
    "\t\t'''\n",
    "\t\tif node_id >= self.N or node_id < 0:\n",
    "\t\t\traise IndexError('Node id outside the range')\n",
    "\n",
    "\tdef plot_indegrees(self):\n",
    "\t\tindegrees = self.A.transpose().dot(np.ones((self.N, )))\n",
    "\t\tself.plot(indegrees)\n",
    "\n",
    "\tdef plot_outdegrees(self):\n",
    "\t\toutdegrees = self.A.dot(np.ones((self.N, )))\n",
    "\t\tself.plot(outdegrees)\n",
    "\n",
    "\tdef plot(self, values, source=None):\n",
    "\t\tif len(values) != self.N:\n",
    "\t\t\traise ValueError('Needs a value for each pixel')\n",
    "\t\t\n",
    "\t\tz = np.reshape(values, self.shape)\n",
    "\t\t\n",
    "\t\tplt.figure()\n",
    "\t\tplt.imshow(z, cmap='RdYlGn', interpolation='nearest')\n",
    "\t\tplt.colorbar()\n",
    "\t\tif source is not None:\n",
    "\t\t\tplt.sc\n",
    "\t\tplt.show()"
   ]
  },
  {
   "cell_type": "markdown",
   "metadata": {},
   "source": [
    "## 3. Definition of the landmarks-class"
   ]
  },
  {
   "cell_type": "markdown",
   "metadata": {},
   "source": [
    "Our general approach is build on so called landmarks. This means that we won't compute the 'distance' (something equivalent to a distance or a similarity) between all pairs of nodes, but only between the nodes and the landmarks. This choice was made to allow for faster computation. Note that for the centrality computation as *n* landmarks approaches *n* nodes, this approximation converges to the real centrality.\n",
    "\n",
    "We define a class **Landmarks**, which can be either distributed uniformly over the landscape or according to landscape quality. \n",
    "\n",
    "The following **functions** create and manipulate ```Landmarks```:\n",
    "* ```set_n_landmarks```: creates either a proportion (if <1) or a number of landmarks (if >=1)\n",
    "* ```choose_landmarks```: select landmarks uniformly distributed on the grid\n",
    "* ```choose_landmarks_from_qualities```: takes a random sample of the highest quality nodes (**COMMENT: weighted by quality?**)\n",
    "\n",
    "Functions for plotting:\n",
    "* ```plot_landmarks```: plot the location of the landmarks\n",
    "* ```plot_landmark```: plot the landmarks, and highlight the focal landmark?\n",
    "\n",
    "Functions related to functionality:\n",
    "* ```plot_landmark_similarities```\n",
    "* ```similarities_from```\n",
    "* ```similarities_to```\n",
    "* ```habitat_functionalities```: Compute habitat functionalities of all the pixels as sums of similarities from an origin pixel to all destination pixels, weighted by the destinations' quality values.\n",
    "* ```harmonic_approximation```"
   ]
  },
  {
   "cell_type": "code",
   "execution_count": null,
   "metadata": {
    "collapsed": false
   },
   "outputs": [],
   "source": [
    "class Landmarks:\n",
    "\t\n",
    "\tdef __init__(self, grid, n_landmarks=0.01, verbose=True, criterion='uniform'):\n",
    "\t\t'''\n",
    "\t\t - grid is a Grid object representing the landscape\n",
    "\n",
    "\t\t - n_landmarks is the number of landmark. If it is bigger than 1, it is rounded to the nearest integer, \n",
    "\t\t   if it is in (0, 1), it is interpreted as the fraction of nodes to use as landmarks\n",
    "\t\t'''\n",
    "\t\tself.verbose = verbose\n",
    "\t\tself.G = grid\n",
    "\t\tself.set_n_landmarks(n_landmarks)\n",
    "\t\tif criterion=='qualities':\n",
    "\t\t\tself.choose_landmarks_from_qualities()\n",
    "\t\telif criterion=='uniform':\n",
    "\t\t\tself.choose_landmarks()\n",
    "\t\telse:\n",
    "\t\t\tprint (\"Invalid criterion, choosing landmarks uniformly.\")\n",
    "\t\t\tself.choose_landmarks()\n",
    "\n",
    "\n",
    "\tdef set_n_landmarks(self, n_landmarks):\n",
    "\t\t'''\n",
    "\t\tSet self.n_landmarks, the number of landmarks to use, based on the parameter n_landmarks\n",
    "\n",
    "\t\t\tIf n_landmark it is bigger than 1, it is rounded to the nearest integer, \n",
    "\t\t\tif it is in (0, 1), it is interpreted as the fraction of nodes to use as landmarks\n",
    "\t\t'''\n",
    "\t\tN = self.G.N\n",
    "\t\tif (n_landmarks <= 0 or n_landmarks > N):\n",
    "\t\t\traise ValueError('n_landmarks must be in the interval (0, number of nodes]')\n",
    "\t\telif n_landmarks >= 1:\n",
    "\t\t\tself.n_landmarks = int(round(n_landmarks))\n",
    "\t\telse:\n",
    "\t\t\tself.n_landmarks = int(round(N * n_landmarks))\n",
    "\n",
    "\tdef choose_landmarks(self):\n",
    "\t\t'''\n",
    "\t\tSelect landmarks uniformly distributed on the grid\n",
    "\t\t'''\n",
    "\n",
    "\t\tn_rows, n_cols = self.G.shape\n",
    "\t\tN = self.G.N\n",
    "\n",
    "\t\tl_cols = int(max(1, min(self.n_landmarks, round(sqrt(n_cols*self.n_landmarks/n_rows)))))\n",
    "\t\t\n",
    "\t\tl_full_rows = int(self.n_landmarks//l_cols)\n",
    "\t\tn_extra = int(self.n_landmarks - l_cols*l_full_rows)\n",
    "\t\t\n",
    "\t\tl_rows = l_full_rows\n",
    "\t\tif n_extra > 0:\n",
    "\t\t\tl_rows += 1\n",
    "\t\t\tprint('Warning: Landmarks are not uniformly spread. Consider using {} or {} landmarks instead of {}'.format(self.n_landmarks - n_extra, self.n_landmarks - n_extra + l_cols, self.n_landmarks))\n",
    "\t\t\n",
    "\t\trows_indices = [int((2*i+1) * n_rows / l_rows / 2) for i in range(l_rows)]\n",
    "\t\tcol_indices = [int((2*i+1) * n_cols / l_cols / 2) for i in range(l_cols)]\n",
    "\t\textra_indices = [int((2*i+1) * n_cols / n_extra / 2) for i in range(n_extra)]\n",
    "\t\t\n",
    "\t\tself.landmarks = np.zeros((self.n_landmarks,), dtype=np.int32)\n",
    "\t\ti = 0\n",
    "\t\tfor r in rows_indices[:l_full_rows]:\n",
    "\t\t\tfor c in col_indices:\n",
    "\t\t\t\tself.landmarks[i] = self.G.grid_coordinates_to_node_id((r,c))\n",
    "\t\t\t\ti += 1\n",
    "\t\tfor c in extra_indices:\n",
    "\t\t\tself.landmarks[i] = self.G.grid_coordinates_to_node_id((rows_indices[-1],c))\n",
    "\t\t\ti += 1\n",
    "\t\n",
    "\tdef choose_landmarks_from_qualities(self):\n",
    "\t\t highest_quality_nodes = np.argsort(self.G.qualities)[-self.n_landmarks*100:-1][::-1]\n",
    "\t\t self.landmarks = random.sample(highest_quality_nodes, self.n_landmarks)\n",
    "\n",
    "\tdef plot_landmarks(self):\n",
    "\n",
    "\t\tvalues = np.zeros((self.G.N,))\n",
    "\t\tvalues[self.landmarks] = 1\n",
    "\t\tself.G.plot(values)\n",
    "\n",
    "\tdef plot_landmark(self, landmark_id):\n",
    "\n",
    "\t\tvalues = np.zeros((self.G.N,))\n",
    "\t\tprint(landmark_id)\n",
    "\t\tprint(self.landmarks[landmark_id])\n",
    "\t\tvalues[self.landmarks[landmark_id]] = 1\n",
    "\t\tself.G.plot(values)\n",
    "\n",
    "\tdef plot_landmark_similarities(self, landmark_id):\n",
    "\t\t\n",
    "\t\taffinities = self.similarities_L2all[landmark_id, :]\n",
    "\t\tself.G.plot(affinities)\n",
    "\n",
    "\tdef similarities_to_landmarks(self, min_affinity=0, affinity_to_cost=None, distance_transformation=None, distance_to_similarity=None):\n",
    "\t\t'''\n",
    "\t\tCompute the affinities from landmarks to all nodes, and from all nodes to landmarks\n",
    "\t\tStore it in self.L2all (horizontal: n_landmarks x n_nodes) and self.all2L (vertical: n_nodes x n_landmarks)\n",
    "\t\t\n",
    "\t\tN.B. : To avoid confusion, cost and affinities are properties of edges, while distances and similarities are properties of pair of nodes that are not necessarily directly connected.\n",
    "\t\t\n",
    "\t\tParameters\n",
    "\t\t----------\n",
    "\t\t\tmin_affinity: float (default = 1e-3)\n",
    "\t\t\tAffinities below this value will not be considered as possible steps.\n",
    "\t\t\tThey will be associated with an infinite cost, will have an infinite distance to all landmark, \n",
    "\t\t\tand a 0 similarity to all node.\n",
    "\n",
    "\t\t\taffinity_to_cost: function handle (default = None)\n",
    "\t\t\tFunction that defines the transformation of affinities into costs. \n",
    "\t\t\tIt must accept a numpy vector of floats (the affinities) and return a vector of the same size (the costs)\n",
    "\t\t\tif None, cost are defined as 1 / affinities.\n",
    "\n",
    "\t\t\tdistance_transformation: function handle (default = None)\n",
    "\t\t\tFunction that would be applied to the results the dijkstra distances computation.\n",
    "\t\t\tself.distances_L2all = distance_transformation(dijkstra_results).\n",
    "\t\t\tIf distance_transformation is None, self.distances_L2all = dijkstra_results.\n",
    "\t\t\tThe same goes for self.distances_all2L.\n",
    "\t\t\tdistance_transformation=np.log can be a good choice\n",
    "\n",
    "\t\t\tdistance_to_similarity: function handle (default = None)\n",
    "\t\t\tFunction that defines the transformation of distances into similarities.\n",
    "\t\t\tif None, similarities are defined as (max_distance - distance) / max_distance.\n",
    "\n",
    "\t\t'''\n",
    "\n",
    "\t\tdef finite_max(a):\n",
    "\t\t\t''' Returns the maximum of an array, excluding infinte values\n",
    "\t\t\t'''\n",
    "\t\t\treturn np.amax(a[np.isfinite(a)])\n",
    "\t\t\n",
    "\t\t\n",
    "\t\tA = self.G.A.copy() # make a copy of the affinity matrix\n",
    "\n",
    "\t\t# Transformation of affinities to cost\n",
    "\t\timpossible_steps = A.data < min_affinity\n",
    "\t\tif affinity_to_cost == None: \t# default affinity to cost transformation\n",
    "\t\t\tA.data[:] = 1. / A.data\n",
    "\t\telse: \t\t\t\t\t\t\t# user specified affinity to cost transformation\n",
    "\t\t\tA.data[:] = affinity_to_cost(A.data)\n",
    "\t\tA.data[impossible_steps] = np.inf\n",
    "\n",
    "\t\t\n",
    "\t\t# From landmarks to all points\n",
    "\t\t##############################\n",
    "\t\tif self.verbose:\n",
    "\t\t\tprint(\"Compute similarities from landmarks to all nodes...\")\n",
    "\n",
    "\t\t# Shortest-path computation with Dijkstra\n",
    "\t\tself.distances_L2all = dijkstra(A, indices=self.landmarks)\n",
    "\n",
    "\t\t# Optional distance transformation\n",
    "\t\tif distance_transformation != None: \n",
    "\t\t\tself.distances_L2all = distance_transformation(self.distances_L2all)\n",
    "\n",
    "\t\t# Distance to similarity transformation\n",
    "\t\tif distance_to_similarity == None: \t# default distance to similarity transformation\n",
    "\t\t\tself.similarities_L2all = (finite_max(self.distances_L2all) - self.distances_L2all)/finite_max(self.distances_L2all)\n",
    "\t\t\tself.similarities_L2all[self.distances_L2all == np.inf] = 0\n",
    "\t\telse:\t\t\t\t\t\t\t\t# user specified distance to similarity transformation\n",
    "\t\t\tself.similarities_L2all = distance_to_similarity(self.distances_L2all)\n",
    "\n",
    "\t\t# From all points to landmarks\n",
    "\t\t##############################\n",
    "\t\tif self.verbose:\n",
    "\t\t\tprint(\"Compute similarities from all nodes to landmarks...\")\n",
    "\n",
    "\t\t# Shortest-path computation with Dijkstra\n",
    "\t\tself.distances_all2L = np.transpose(dijkstra(A.transpose(), indices=self.landmarks))\n",
    "\n",
    "\t\t# Optional distance transformation\n",
    "\t\tif distance_transformation != None: \n",
    "\t\t\tself.distances_all2L = distance_transformation(self.distances_all2L)\n",
    "\n",
    "\t\t# Distance to similarity transformation\n",
    "\t\tif distance_to_similarity == None: \t# default distance to similarity transformation\n",
    "\t\t\tself.similarities_all2L = (finite_max(self.distances_all2L) - self.distances_all2L)/finite_max(self.distances_all2L)\n",
    "\t\t\tself.similarities_all2L[self.distances_all2L == np.inf] = 0\n",
    "\t\telse:\t\t\t\t\t\t\t\t# user specified distance to similarity transformation\n",
    "\t\t\tself.similarities_all2L = distance_to_similarity(self.distances_all2L)\n",
    "\n",
    "\tdef similarities_from(self, sources):\n",
    "\t\t'''\n",
    "\t\tCompute the similarities based on landmarks, from the sources to every nodes in the grid.\n",
    "\t\tsources is either a single int or a list of int, representing the indices of the sources.\n",
    "\t\t'''\n",
    "\n",
    "\t\treturn self.similarities_all2L[sources, :].dot(self.similarities_L2all)\n",
    "\n",
    "\tdef similarities_to(self, destinations):\n",
    "\t\t'''\n",
    "\t\tCompute the similarities based on landmarks, from every nodes to the destinations.\n",
    "\t\tdestinations is either a single int or a list of int, representing the indices of the destinations.\n",
    "\t\t'''\n",
    "\n",
    "\t\treturn self.similarities_all2L.dot(self.similarities_L2all[:, destinations])\n",
    "\n",
    "\tdef habitat_functionalities(self):\n",
    "\t\t'''\n",
    "\t\tCompute habitat functionalities of all the pixels as sums of similarities from\n",
    "\t\tan origin pixel to all destination pixels, weighted by the destinations' quality values.\n",
    "\t\t'''\n",
    "\t\tL2all_Q = self.similarities_L2all.dot(self.G.qualities)\n",
    "\t\thf = self.similarities_all2L.dot(L2all_Q)\n",
    "\t\thf[hf == 0] = np.nan\n",
    "\t\treturn hf\n",
    "\n",
    "\tdef harmonic_approximation(self):\n",
    "\t\tall2L_Q = self.similarities_all2L.dot(self.G.qualities[self.landmarks])\n",
    "\t\tall2L_Q[all2L_Q==0] = np.nan\n",
    "\t\treturn all2L_Q.tolist()\n",
    "\n",
    "\t#  def closeness_centrality(self, weight=None):\n",
    "\t# \t'''\n",
    "\t# \tCompute the closeness centrality (approximated with landmarks)\n",
    "\t# \tThis centrality is based on shortest path distances, and assumes that self.distances_all2L and self.distances_L2all contains the shortest path distances from and to all landmarks.\n",
    "\t# \tThe exact \n",
    "\t# \t'''"
   ]
  },
  {
   "cell_type": "markdown",
   "metadata": {},
   "source": [
    "## 4. Read a hdf5-file"
   ]
  },
  {
   "cell_type": "markdown",
   "metadata": {},
   "source": [
    "The class **HDF5Reader** is a helper to convert the hdf5-files into ```Grids```. "
   ]
  },
  {
   "cell_type": "code",
   "execution_count": null,
   "metadata": {
    "collapsed": true
   },
   "outputs": [],
   "source": [
    "FPATH = '..data/affinity.h5' # Replace with the correct path\n",
    "    \n",
    "class HDF5Reader:\n",
    "\n",
    "\tdef __init__(self, fpath=FPATH):\n",
    "\t\tself.fpath = fpath\n",
    "\n",
    "\t\tf = h5py.File(fpath)\n",
    "\t\t# self.ncols = f['NCOLS'][0]\n",
    "\t\t# self.nrows = f['NROWS'][0]\n",
    "\t\tself.nrows = f['NCOLS'][0] # rows and cols seems to be mixed up\n",
    "\t\tself.ncols = f['NROWS'][0]\n",
    "\t\tself.xllcorner = f['XLLCORNER'][0] #the longitude coordinates of the lower left corner\n",
    "\t\tself.yllcorner = f['YLLCORNER'][0] # the latitude coordinates of the lower left corner\n",
    "\t\tself.xcellsize = f['XCELLSIZE'][0] # width of the pixels\n",
    "\t\tself.ycellsize = f['YCELLSIZE'][0] # height of the pixels (when pixels are square this will be the  same value as the XCELLSIZE, i.e. most cases)\n",
    "\t\tself.epsg = f['EPSG'][0]  # is the code to represent the projection\n",
    "\t\tself.I = f['AFFINITY_START'][:].tolist()\n",
    "\t\tself.J = f['AFFINITY_END'][:].tolist()\n",
    "\t\tself.V = f['AFFINITY_VALUES'][:].tolist()\n",
    "\n",
    "\t\t# Below are hacks that deal with the missing node in the data:\n",
    "\t\tself.I = [i-1 for i in self.I]\n",
    "\t\tself.I.append(max(self.I) + 1)\n",
    "\t\tself.J = [j-1 for j in self.J]\n",
    "\t\tself.J.append(max(self.J) + 1)\n",
    "\t\tself.V.append(0)\n",
    "\n",
    "\t\t# self.V = [v-0.9 for v in self.V]\n",
    "\t\tQ = f['QUALITY_VALUES'][:].tolist()\n",
    "\t\tself.qualities = np.array(Q)\n",
    "\t\tself.nodata_value = f['NODATA_VALUE'][0]  # what represents the missing data in the QUALITY vector\n",
    "\t\tself.npix = max(max(self.I),max(self.J)) # number of pixels\n",
    "\n",
    "\tdef truncate_affinities(self, min_affinity=-4, max_affinity=4):\n",
    "\t\t'''Truncate affinity values between min_affinity and max_affinity\n",
    "\t\t'''\n",
    "\t\tself.V = np.fmin(max_affinity, self.V)\n",
    "\t\tself.V = np.fmax(min_affinity, self.V)\n",
    "\n",
    "\tdef standardize_affinities(self):\n",
    "\t\t'''Remove mean and normalize std to 1:\n",
    "\t\t'''\n",
    "\t\tmeanV = np.mean(self.V)\n",
    "\t\tstdV = np.std(self.V)\n",
    "\t\tself.V = (self.V-meanV)/stdV\n",
    "\n",
    "\tdef make_grid(self):\n",
    "\t\t# Exponential of the affinities:\n",
    "\t\tA = sparse.coo_matrix((np.exp(self.V), (self.I,self.J))).tocsr() # build a graph with the exponential of the affinities as edge weight\n",
    "\n",
    "\t\t# Uniform affinities:\n",
    "\t\t# A = sparse.coo_matrix((np.ones(len(self.V)), (self.I,self.J))).tocsr() # build a graph with the exponential of the affinities as edge weight\n",
    "\n",
    "\t\t# Non-exponential affinities:\n",
    "\t\t# V_min = min(self.V)\n",
    "\t\t# self.V = [v - V_min + 1 for v in self.V]\n",
    "\t\t# A = sparse.coo_matrix((np.array(self.V), (self.I,self.J))).tocsr() # build a graph with the exponential of the affinities as edge weight\n",
    "\n",
    "\t\tmap_size = (self.nrows*self.ycellsize, self.ncols*self.xcellsize)\n",
    "\t\treturn Grid(map_size, (self.nrows, self.ncols), graph=A, qualities=self.qualities)"
   ]
  },
  {
   "cell_type": "markdown",
   "metadata": {},
   "source": [
    "## 5. Prepare data\n",
    "\n",
    "1. read file\n",
    "2. generate landmarks"
   ]
  },
  {
   "cell_type": "code",
   "execution_count": null,
   "metadata": {
    "collapsed": false
   },
   "outputs": [],
   "source": [
    "l = HDF5Reader(fpath='E://Work/Projects/RenewableReindeer/bitbucket/data/affinity.h5')\n",
    "# l.truncate_affinities()\n",
    "# l.standardize_affinities()\n",
    "\n",
    "g = l.make_grid()"
   ]
  },
  {
   "cell_type": "markdown",
   "metadata": {},
   "source": [
    "Select the criterion for landmark generation:"
   ]
  },
  {
   "cell_type": "code",
   "execution_count": null,
   "metadata": {
    "collapsed": false
   },
   "outputs": [],
   "source": [
    "# criterion = 'qualities'\n",
    "criterion = 'uniform'\n",
    "criterion"
   ]
  },
  {
   "cell_type": "markdown",
   "metadata": {},
   "source": [
    "Generate landmarks:"
   ]
  },
  {
   "cell_type": "code",
   "execution_count": null,
   "metadata": {
    "collapsed": false
   },
   "outputs": [],
   "source": [
    "landmarks = Landmarks(g,criterion=criterion)\n",
    "landmarks.similarities_to_landmarks(min_affinity=0)\n",
    "# landmarks.similarities_to_landmarks(min_affinity=-10.)\n",
    "# landmarks.plot_landmarks()"
   ]
  },
  {
   "cell_type": "markdown",
   "metadata": {},
   "source": [
    "Plot landmarks:"
   ]
  },
  {
   "cell_type": "code",
   "execution_count": null,
   "metadata": {
    "collapsed": false
   },
   "outputs": [],
   "source": [
    "landmarks.plot_landmarks()"
   ]
  },
  {
   "cell_type": "markdown",
   "metadata": {},
   "source": [
    "**COMMENT: I am guessing here (please, confirm):**\n",
    "The following code highlights the 20-th landmark, and prints both the landmark id and the node id corresponding to the landmark (especially this last bit I am not sure of)."
   ]
  },
  {
   "cell_type": "code",
   "execution_count": null,
   "metadata": {
    "collapsed": false
   },
   "outputs": [],
   "source": [
    "landmarks.plot_landmark(20)"
   ]
  },
  {
   "cell_type": "markdown",
   "metadata": {},
   "source": [
    "## 6. Plot data & results"
   ]
  },
  {
   "cell_type": "markdown",
   "metadata": {},
   "source": [
    "Plot qualities:"
   ]
  },
  {
   "cell_type": "code",
   "execution_count": null,
   "metadata": {
    "collapsed": false
   },
   "outputs": [],
   "source": [
    "g.plot(l.qualities)"
   ]
  },
  {
   "cell_type": "markdown",
   "metadata": {},
   "source": [
    "Plot in-degrees:"
   ]
  },
  {
   "cell_type": "code",
   "execution_count": null,
   "metadata": {
    "collapsed": false
   },
   "outputs": [],
   "source": [
    "g.plot_indegrees()\n"
   ]
  },
  {
   "cell_type": "markdown",
   "metadata": {},
   "source": [
    "Plot out-degrees:"
   ]
  },
  {
   "cell_type": "code",
   "execution_count": null,
   "metadata": {
    "collapsed": false
   },
   "outputs": [],
   "source": [
    "g.plot_outdegrees()"
   ]
  },
  {
   "cell_type": "markdown",
   "metadata": {},
   "source": [
    "Plot the landmark affinities from a point (y, x).\n",
    "**COMMENT: confirm my interpretation:**\n",
    "The values shown are the affinities from the focal node to all other nodes through the different landmarks: the affinity from the source to the landmarks is multiplied (matrix) with the affinities from the landmarks to all nodes."
   ]
  },
  {
   "cell_type": "code",
   "execution_count": null,
   "metadata": {
    "collapsed": false
   },
   "outputs": [],
   "source": [
    "g.plot(landmarks.similarities_from(g.grid_coordinates_to_node_id([35, 5])))"
   ]
  },
  {
   "cell_type": "markdown",
   "metadata": {},
   "source": [
    "**COMMENT: something must go wrong here** It really doesn't make sense that the following figure is identical to the previous one, as both are at the opposite side of the lake. How can this be?\n",
    "Could the problem lie in the fact that the similarities are based on all landmarks. It gives the impression that the focal vector has no effect on the multiplication."
   ]
  },
  {
   "cell_type": "code",
   "execution_count": null,
   "metadata": {
    "collapsed": false
   },
   "outputs": [],
   "source": [
    "g.plot(landmarks.similarities_from(g.grid_coordinates_to_node_id([10, 45])))"
   ]
  },
  {
   "cell_type": "markdown",
   "metadata": {},
   "source": [
    "**COMMENT: does this make sense?**\n",
    "Comparing these focal vectors in the next plot, it gives the impression that they are as expected somewhat negatively correlated. Thus, the landmarks that are close for the one node are far for the other, which is what we would expect given their locations on the landscape. \n",
    "\n",
    "However, I had expected more extreme values. I guess the rather moderate values explains why the differences get washed out. Landmarks that have the highest \"inbetweenness\" between two nodes should contribute more than the marginal ones, whereas now it seems they contribute equally (not exactly, but my point is they should be punished more). "
   ]
  },
  {
   "cell_type": "code",
   "execution_count": null,
   "metadata": {
    "collapsed": false
   },
   "outputs": [],
   "source": [
    "plt.plot(landmarks.similarities_all2L[g.grid_coordinates_to_node_id([35, 5]), :], \n",
    "         landmarks.similarities_all2L[g.grid_coordinates_to_node_id([10, 45]), :], 'ro')\n",
    "plt.show()"
   ]
  },
  {
   "cell_type": "markdown",
   "metadata": {},
   "source": [
    "Plot habitat functionalities of all points"
   ]
  },
  {
   "cell_type": "code",
   "execution_count": null,
   "metadata": {
    "collapsed": false
   },
   "outputs": [],
   "source": [
    "g.plot(landmarks.habitat_functionalities())"
   ]
  },
  {
   "cell_type": "markdown",
   "metadata": {},
   "source": [
    "Plot harmonic centrality approximations of all points"
   ]
  },
  {
   "cell_type": "code",
   "execution_count": null,
   "metadata": {
    "collapsed": false
   },
   "outputs": [],
   "source": [
    "g.plot(landmarks.harmonic_approximation())"
   ]
  },
  {
   "cell_type": "markdown",
   "metadata": {},
   "source": [
    "** COMMENT: Not idea what it does: some type of degree (\"ad\")**"
   ]
  },
  {
   "cell_type": "code",
   "execution_count": null,
   "metadata": {
    "collapsed": false
   },
   "outputs": [],
   "source": [
    "g.plot(g.A.mean(axis=1))"
   ]
  },
  {
   "cell_type": "markdown",
   "metadata": {},
   "source": [
    "Let us investigate in a bit more detail one landmark at the time:"
   ]
  },
  {
   "cell_type": "code",
   "execution_count": null,
   "metadata": {
    "collapsed": false
   },
   "outputs": [],
   "source": [
    "landmarks.plot_landmark(1)\n",
    "landmarks.plot_landmark_similarities(1)\n",
    "plt.figure()\n",
    "plt.plot(landmarks.similarities_L2all[1, :])\n",
    "plt.show()"
   ]
  },
  {
   "cell_type": "code",
   "execution_count": null,
   "metadata": {
    "collapsed": false
   },
   "outputs": [],
   "source": [
    "landmarks.plot_landmark(37)\n",
    "landmarks.plot_landmark_similarities(37)\n",
    "plt.figure()\n",
    "plt.plot(landmarks.similarities_L2all[37, :])\n",
    "plt.show()"
   ]
  },
  {
   "cell_type": "code",
   "execution_count": null,
   "metadata": {
    "collapsed": false
   },
   "outputs": [],
   "source": [
    "landmarks.plot_landmark(7)\n",
    "landmarks.plot_landmark_similarities(7)\n",
    "plt.figure()\n",
    "#plt.plot(landmarks.similarities_L2all[7, :])\n",
    "plt.show()"
   ]
  },
  {
   "cell_type": "markdown",
   "metadata": {},
   "source": [
    "**COMMENT**\n",
    "Here we observe the expected shaddow cast by major obstacles (notably the lake). "
   ]
  },
  {
   "cell_type": "markdown",
   "metadata": {},
   "source": [
    "** COMMENT: Not idea what the following bit does**"
   ]
  },
  {
   "cell_type": "code",
   "execution_count": null,
   "metadata": {
    "collapsed": false
   },
   "outputs": [],
   "source": [
    "dist = landmarks.distances_L2all\n",
    "landmark_centralities = dist.dot(np.ones((dist.shape[1],)))\n",
    "plt.figure()\n",
    "plt.plot(landmark_centralities)\n",
    "plt.show()"
   ]
  },
  {
   "cell_type": "code",
   "execution_count": null,
   "metadata": {
    "collapsed": true
   },
   "outputs": [],
   "source": []
  }
 ],
 "metadata": {
  "kernelspec": {
   "display_name": "Python 3",
   "language": "python",
   "name": "python3"
  },
  "language_info": {
   "codemirror_mode": {
    "name": "ipython",
    "version": 3
   },
   "file_extension": ".py",
   "mimetype": "text/x-python",
   "name": "python",
   "nbconvert_exporter": "python",
   "pygments_lexer": "ipython3",
   "version": "3.5.1"
  }
 },
 "nbformat": 4,
 "nbformat_minor": 0
}
